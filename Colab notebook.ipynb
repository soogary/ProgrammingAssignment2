{
  "nbformat": 4,
  "nbformat_minor": 0,
  "metadata": {
    "colab": {
      "provenance": [],
      "authorship_tag": "ABX9TyNjit/t9fGUOi8cIe+qct8h",
      "include_colab_link": true
    },
    "kernelspec": {
      "name": "python3",
      "display_name": "Python 3"
    },
    "language_info": {
      "name": "python"
    }
  },
  "cells": [
    {
      "cell_type": "markdown",
      "metadata": {
        "id": "view-in-github",
        "colab_type": "text"
      },
      "source": [
        "<a href=\"https://colab.research.google.com/github/soogary/ProgrammingAssignment2/blob/master/Colab%20notebook.ipynb\" target=\"_parent\"><img src=\"https://colab.research.google.com/assets/colab-badge.svg\" alt=\"Open In Colab\"/></a>"
      ]
    },
    {
      "cell_type": "code",
      "execution_count": null,
      "metadata": {
        "id": "OrBl86-xQs0r"
      },
      "outputs": [],
      "source": []
    },
    {
      "cell_type": "markdown",
      "source": [
        "Purpose"
      ],
      "metadata": {
        "id": "MtMdlgQbQubQ"
      }
    },
    {
      "cell_type": "markdown",
      "source": [
        "Ingest"
      ],
      "metadata": {
        "id": "6RbCYrnPQwCH"
      }
    },
    {
      "cell_type": "markdown",
      "source": [
        "Explore"
      ],
      "metadata": {
        "id": "CChwhb1nQxgt"
      }
    }
  ]
}